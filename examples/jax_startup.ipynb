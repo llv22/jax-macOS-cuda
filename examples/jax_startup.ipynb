{
 "cells": [
  {
   "cell_type": "markdown",
   "id": "organized-fountain",
   "metadata": {},
   "source": [
    "# Jax pmap issue\n",
    "\n",
    "References:\n",
    "\n",
    "* [Pmap Cookbook via Google Colab](https://colab.research.google.com/github/google/jax/blob/master/cloud_tpu_colabs/Pmap_Cookbook.ipynb#scrollTo=4DYY4Yyhq8vG)\n",
    "\n",
    "Prepare:\n",
    "\n",
    "* add /usr/local/nccl/lib into LD_LIBRARY_PATH before executing notebook by\n",
    "\n",
    "```bash\n",
    "export LD_LIBRARY_PATH=$LD_LIBRARY_PATH:$NCCL_HOME/lib\n",
    "```"
   ]
  },
  {
   "cell_type": "code",
   "execution_count": 1,
   "id": "fifty-principle",
   "metadata": {},
   "outputs": [
    {
     "name": "stdout",
     "output_type": "stream",
     "text": [
      "/usr/local/cuda/lib:/Developer/NVIDIA/CUDA-10.1/lib:/usr/local/cuda/extras/CUPTI/lib:/usr/local/opt/boost-python3/lib:/usr/local/opt/open-mpi/lib:/usr/local/Cellar/libomp/10.0.0/lib:/usr/local/Cellar/rdkit20210304/lib:/Users/llv23/opt/miniconda3/lib:/usr/local/lib:/usr/local/nccl/lib\n"
     ]
    }
   ],
   "source": [
    "import os\n",
    "print(os.environ['LD_LIBRARY_PATH'])\n",
    "# os.environ['LD_LIBRARY_PATH'] += f\":{os.environ['NCCL_HOME']}/lib\""
   ]
  },
  {
   "cell_type": "code",
   "execution_count": 2,
   "id": "complete-picture",
   "metadata": {},
   "outputs": [],
   "source": [
    "import jax\n",
    "n_devices = jax.local_device_count() "
   ]
  },
  {
   "cell_type": "code",
   "execution_count": 3,
   "id": "statewide-galaxy",
   "metadata": {},
   "outputs": [
    {
     "data": {
      "text/plain": [
       "[GpuDevice(id=0), GpuDevice(id=1)]"
      ]
     },
     "execution_count": 3,
     "metadata": {},
     "output_type": "execute_result"
    }
   ],
   "source": [
    "jax.devices(\"gpu\")"
   ]
  },
  {
   "cell_type": "code",
   "execution_count": 4,
   "id": "attended-comment",
   "metadata": {
    "scrolled": true
   },
   "outputs": [
    {
     "data": {
      "text/plain": [
       "[CpuDevice(id=0)]"
      ]
     },
     "execution_count": 4,
     "metadata": {},
     "output_type": "execute_result"
    }
   ],
   "source": [
    "jax.devices(\"cpu\")"
   ]
  },
  {
   "cell_type": "code",
   "execution_count": 5,
   "id": "sudden-syndication",
   "metadata": {},
   "outputs": [
    {
     "name": "stdout",
     "output_type": "stream",
     "text": [
      "[1.1608742 1.230151 ]\n"
     ]
    }
   ],
   "source": [
    "from jax import random, pmap\n",
    "import jax.numpy as jnp\n",
    "\n",
    "# Create 8 random 5000 x 6000 matrices, one per GPU\n",
    "keys = random.split(random.PRNGKey(0), n_devices)\n",
    "mats = pmap(lambda key: random.normal(key, (5000, 6000)))(keys)\n",
    "\n",
    "# Run a local matmul on each device in parallel (no data transfer)\n",
    "result = pmap(lambda x: jnp.dot(x, x.T))(mats)  # result.shape is (8, 5000, 5000)\n",
    "\n",
    "# Compute the mean on each device in parallel and print the result\n",
    "print(pmap(jnp.mean)(result))\n",
    "# prints [1.1608742 1.230151 ]"
   ]
  },
  {
   "cell_type": "code",
   "execution_count": 6,
   "id": "twelve-radar",
   "metadata": {},
   "outputs": [
    {
     "name": "stdout",
     "output_type": "stream",
     "text": [
      "[0. 1.]\n"
     ]
    }
   ],
   "source": [
    "from jax import random, pmap\n",
    "import jax.numpy as jnp\n",
    "\n",
    "from functools import partial\n",
    "from jax import lax\n",
    "\n",
    "@partial(pmap, axis_name='i')\n",
    "def normalize(x):\n",
    "  return x / lax.psum(x, 'i')\n",
    "\n",
    "print(normalize(jnp.arange(float(n_devices))))\n",
    "# prints [0. 1.]"
   ]
  },
  {
   "cell_type": "code",
   "execution_count": 7,
   "id": "peaceful-tiger",
   "metadata": {},
   "outputs": [
    {
     "name": "stdout",
     "output_type": "stream",
     "text": [
      "[[-0.7170831]\n",
      " [-0.7170831]]\n",
      "[[-1.6356444]\n",
      " [-1.6356444]]\n"
     ]
    }
   ],
   "source": [
    "from functools import partial\n",
    "from jax import grad\n",
    "import jax.numpy as jnp\n",
    "from jax import random, pmap\n",
    "\n",
    "@partial(pmap, axis_size=2, devices=jax.devices()[:n_devices])\n",
    "def f(x):\n",
    "    y = jnp.sin(x)\n",
    "    def g(z):\n",
    "        return jnp.cos(z) * jnp.tan(y.sum()) * jnp.tanh(x).sum()\n",
    "    return grad(lambda w: jnp.sum(g(w)))(x)\n",
    "\n",
    "x = jnp.ones((n_devices, 1))\n",
    "print(f(x))\n",
    "# [[-0.7170831]\n",
    "#  [-0.7170831]]\n",
    "\n",
    "print(grad(lambda x: jnp.sum(f(x)))(x))\n",
    "# [[-1.6356444]\n",
    "#  [-1.6356444]]"
   ]
  },
  {
   "cell_type": "code",
   "execution_count": 8,
   "id": "bibliographic-bulgarian",
   "metadata": {},
   "outputs": [
    {
     "name": "stdout",
     "output_type": "stream",
     "text": [
      "[[-0.7170831]\n",
      " [-0.7170831]]\n",
      "[[-1.6356444]\n",
      " [-1.6356444]]\n"
     ]
    }
   ],
   "source": [
    "import jax\n",
    "n_devices = jax.local_device_count() \n",
    "\n",
    "from functools import partial\n",
    "from jax import grad\n",
    "import jax.numpy as jnp\n",
    "from jax import random, pmap\n",
    "\n",
    "@pmap\n",
    "def f(x):\n",
    "    y = jnp.sin(x)\n",
    "    @pmap\n",
    "    def g(z):\n",
    "        return jnp.cos(z) * jnp.tan(y.sum()) * jnp.tanh(x).sum()\n",
    "    return grad(lambda w: jnp.sum(g(w)))(x)\n",
    "\n",
    "x = jnp.ones((n_devices, 1))\n",
    "print(f(x))\n",
    "# [[-0.7170831]\n",
    "#  [-0.7170831]]\n",
    "\n",
    "print(grad(lambda x: jnp.sum(f(x)))(x))\n",
    "# [[-1.6356444]\n",
    "#  [-1.6356444]]"
   ]
  },
  {
   "cell_type": "code",
   "execution_count": null,
   "id": "bibliographic-crystal",
   "metadata": {},
   "outputs": [],
   "source": []
  }
 ],
 "metadata": {
  "kernelspec": {
   "display_name": "Python 3",
   "language": "python",
   "name": "python3"
  },
  "language_info": {
   "codemirror_mode": {
    "name": "ipython",
    "version": 3
   },
   "file_extension": ".py",
   "mimetype": "text/x-python",
   "name": "python",
   "nbconvert_exporter": "python",
   "pygments_lexer": "ipython3",
   "version": "3.8.8"
  }
 },
 "nbformat": 4,
 "nbformat_minor": 5
}
